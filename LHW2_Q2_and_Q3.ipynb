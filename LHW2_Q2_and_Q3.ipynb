{
  "cells": [
    {
      "cell_type": "markdown",
      "metadata": {
        "id": "view-in-github",
        "colab_type": "text"
      },
      "source": [
        "<a href=\"https://colab.research.google.com/github/kkaung66/CS498_LHW2_Codes/blob/main/LHW2_Q2_and_Q3.ipynb\" target=\"_parent\"><img src=\"https://colab.research.google.com/assets/colab-badge.svg\" alt=\"Open In Colab\"/></a>"
      ]
    },
    {
      "cell_type": "code",
      "execution_count": null,
      "metadata": {
        "colab": {
          "base_uri": "https://localhost:8080/"
        },
        "id": "VIr2aucu_eBb",
        "outputId": "321089f1-f1a2-43d0-9f4c-a0d8789b8d99"
      },
      "outputs": [
        {
          "name": "stdout",
          "output_type": "stream",
          "text": [
            "ml-100k.zip  \u001b[0m\u001b[01;34msample_data\u001b[0m/\n"
          ]
        }
      ],
      "source": [
        ""
      ]
    },
    {
      "cell_type": "code",
      "execution_count": null,
      "metadata": {
        "id": "Jdrkmaz0--9C"
      },
      "outputs": [],
      "source": [
        "import pandas as pd\n",
        "import numpy as np\n",
        "import scipy.sparse as sp\n",
        "import torch\n",
        "from collections import defaultdict\n",
        "from sklearn.metrics.pairwise import cosine_similarity\n",
        "import matplotlib.pyplot as plt\n"
      ]
    },
    {
      "cell_type": "code",
      "execution_count": null,
      "metadata": {
        "colab": {
          "base_uri": "https://localhost:8080/"
        },
        "id": "wXGvz-37_MC7",
        "outputId": "799979e3-ac8c-4b22-82c5-5dc52d1653ca"
      },
      "outputs": [
        {
          "name": "stdout",
          "output_type": "stream",
          "text": [
            "Downloading movielens data...\n",
            "Done. Dataset contains:\n",
            "b'943 users\\n1682 items\\n100000 ratings\\n'\n"
          ]
        }
      ],
      "source": [
        "print(\"Downloading movielens data...\")\n",
        "from urllib.request import urlretrieve\n",
        "import zipfile\n",
        "\n",
        "urlretrieve (\"https://github.com/aravindsankar28/Recommender-Models/blob/main/ml-100k.zip?raw=true\", \"ml-100k.zip\")\n",
        "zip_ref = zipfile.ZipFile('ml-100k.zip', \"r\")\n",
        "\n",
        "zip_ref.extractall()\n",
        "print(\"Done. Dataset contains:\")\n",
        "print(zip_ref.read('ml-100k/u.info'))\n",
        "\n"
      ]
    },
    {
      "cell_type": "markdown",
      "metadata": {
        "id": "twRPawct--9M"
      },
      "source": [
        "We first load the MovieLens Data, and create DataFrames containing movies, users, and ratings.\n"
      ]
    },
    {
      "cell_type": "code",
      "execution_count": null,
      "metadata": {
        "id": "dkEPwkfp--9N"
      },
      "outputs": [],
      "source": [
        "# Load each data set (users, movies, and ratings).\n",
        "users_cols = ['user_id', 'age', 'sex', 'occupation', 'zip_code']\n",
        "users = pd.read_csv(\n",
        "    'ml-100k/u.user', sep='|', names=users_cols, encoding='latin-1')\n"
      ]
    },
    {
      "cell_type": "code",
      "execution_count": null,
      "metadata": {
        "id": "jwwri0pY--9O"
      },
      "outputs": [],
      "source": [
        "ratings_cols = ['user_id', 'movie_id', 'rating', 'unix_timestamp']\n",
        "ratings = pd.read_csv(\n",
        "    'ml-100k/u.data', sep='\\t', names=ratings_cols, encoding='latin-1')\n"
      ]
    },
    {
      "cell_type": "code",
      "execution_count": null,
      "metadata": {
        "id": "ScSHwAks--9O"
      },
      "outputs": [],
      "source": [
        "genre_cols = [\n",
        "    \"genre_unknown\", \"Action\", \"Adventure\", \"Animation\", \"Children\", \"Comedy\",\n",
        "    \"Crime\", \"Documentary\", \"Drama\", \"Fantasy\", \"Film-Noir\", \"Horror\",\n",
        "    \"Musical\", \"Mystery\", \"Romance\", \"Sci-Fi\", \"Thriller\", \"War\", \"Western\"\n",
        "]\n",
        "\n",
        "movies_cols = [\n",
        "    'movie_id', 'title', 'release_date', \"video_release_date\", \"imdb_url\"\n",
        "] + genre_cols\n",
        "\n",
        "movies = pd.read_csv(\n",
        "    'ml-100k/u.item', sep='|', names=movies_cols, encoding='latin-1')"
      ]
    },
    {
      "cell_type": "code",
      "execution_count": null,
      "metadata": {
        "id": "T3f6qEgO--9P"
      },
      "outputs": [],
      "source": [
        "# Since the ids start at 1, we shift them to start at 0.\n",
        "users[\"user_id\"] = users[\"user_id\"].apply(lambda x: int(x-1))\n",
        "movies[\"movie_id\"] = movies[\"movie_id\"].apply(lambda x: int(x-1))\n",
        "movies[\"year\"] = movies['release_date'].apply(lambda x: str(x).split('-')[-1])\n",
        "ratings[\"movie_id\"] = ratings[\"movie_id\"].apply(lambda x: int(x-1))\n",
        "ratings[\"user_id\"] = ratings[\"user_id\"].apply(lambda x: int(x-1))\n",
        "ratings[\"rating\"] = ratings[\"rating\"].apply(lambda x: float(x))\n"
      ]
    },
    {
      "cell_type": "code",
      "execution_count": null,
      "metadata": {
        "id": "Gd_0Ti4---9Q"
      },
      "outputs": [],
      "source": [
        "movielens = ratings.merge(movies, on='movie_id').merge(users, on='user_id')\n",
        "movielens = movielens.drop(columns = [\"video_release_date\", \"imdb_url\"])"
      ]
    },
    {
      "cell_type": "code",
      "execution_count": null,
      "metadata": {
        "colab": {
          "base_uri": "https://localhost:8080/",
          "height": 508
        },
        "id": "KGe0G4pt--9Q",
        "outputId": "645c95b0-b60c-4175-8ce4-c36db04c7fa8"
      },
      "outputs": [
        {
          "data": {
            "text/html": [
              "\n",
              "  <div id=\"df-ff13c69d-70a4-4728-a4e8-11a1b247a61b\">\n",
              "    <div class=\"colab-df-container\">\n",
              "      <div>\n",
              "<style scoped>\n",
              "    .dataframe tbody tr th:only-of-type {\n",
              "        vertical-align: middle;\n",
              "    }\n",
              "\n",
              "    .dataframe tbody tr th {\n",
              "        vertical-align: top;\n",
              "    }\n",
              "\n",
              "    .dataframe thead th {\n",
              "        text-align: right;\n",
              "    }\n",
              "</style>\n",
              "<table border=\"1\" class=\"dataframe\">\n",
              "  <thead>\n",
              "    <tr style=\"text-align: right;\">\n",
              "      <th></th>\n",
              "      <th>user_id</th>\n",
              "      <th>movie_id</th>\n",
              "      <th>rating</th>\n",
              "      <th>unix_timestamp</th>\n",
              "      <th>title</th>\n",
              "      <th>release_date</th>\n",
              "      <th>genre_unknown</th>\n",
              "      <th>Action</th>\n",
              "      <th>Adventure</th>\n",
              "      <th>Animation</th>\n",
              "      <th>...</th>\n",
              "      <th>Romance</th>\n",
              "      <th>Sci-Fi</th>\n",
              "      <th>Thriller</th>\n",
              "      <th>War</th>\n",
              "      <th>Western</th>\n",
              "      <th>year</th>\n",
              "      <th>age</th>\n",
              "      <th>sex</th>\n",
              "      <th>occupation</th>\n",
              "      <th>zip_code</th>\n",
              "    </tr>\n",
              "  </thead>\n",
              "  <tbody>\n",
              "    <tr>\n",
              "      <th>0</th>\n",
              "      <td>195</td>\n",
              "      <td>241</td>\n",
              "      <td>3.0</td>\n",
              "      <td>881250949</td>\n",
              "      <td>Kolya (1996)</td>\n",
              "      <td>24-Jan-1997</td>\n",
              "      <td>0</td>\n",
              "      <td>0</td>\n",
              "      <td>0</td>\n",
              "      <td>0</td>\n",
              "      <td>...</td>\n",
              "      <td>0</td>\n",
              "      <td>0</td>\n",
              "      <td>0</td>\n",
              "      <td>0</td>\n",
              "      <td>0</td>\n",
              "      <td>1997</td>\n",
              "      <td>49</td>\n",
              "      <td>M</td>\n",
              "      <td>writer</td>\n",
              "      <td>55105</td>\n",
              "    </tr>\n",
              "    <tr>\n",
              "      <th>1</th>\n",
              "      <td>195</td>\n",
              "      <td>256</td>\n",
              "      <td>2.0</td>\n",
              "      <td>881251577</td>\n",
              "      <td>Men in Black (1997)</td>\n",
              "      <td>04-Jul-1997</td>\n",
              "      <td>0</td>\n",
              "      <td>1</td>\n",
              "      <td>1</td>\n",
              "      <td>0</td>\n",
              "      <td>...</td>\n",
              "      <td>0</td>\n",
              "      <td>1</td>\n",
              "      <td>0</td>\n",
              "      <td>0</td>\n",
              "      <td>0</td>\n",
              "      <td>1997</td>\n",
              "      <td>49</td>\n",
              "      <td>M</td>\n",
              "      <td>writer</td>\n",
              "      <td>55105</td>\n",
              "    </tr>\n",
              "    <tr>\n",
              "      <th>2</th>\n",
              "      <td>195</td>\n",
              "      <td>110</td>\n",
              "      <td>4.0</td>\n",
              "      <td>881251793</td>\n",
              "      <td>Truth About Cats &amp; Dogs, The (1996)</td>\n",
              "      <td>26-Apr-1996</td>\n",
              "      <td>0</td>\n",
              "      <td>0</td>\n",
              "      <td>0</td>\n",
              "      <td>0</td>\n",
              "      <td>...</td>\n",
              "      <td>1</td>\n",
              "      <td>0</td>\n",
              "      <td>0</td>\n",
              "      <td>0</td>\n",
              "      <td>0</td>\n",
              "      <td>1996</td>\n",
              "      <td>49</td>\n",
              "      <td>M</td>\n",
              "      <td>writer</td>\n",
              "      <td>55105</td>\n",
              "    </tr>\n",
              "    <tr>\n",
              "      <th>3</th>\n",
              "      <td>195</td>\n",
              "      <td>24</td>\n",
              "      <td>4.0</td>\n",
              "      <td>881251955</td>\n",
              "      <td>Birdcage, The (1996)</td>\n",
              "      <td>08-Mar-1996</td>\n",
              "      <td>0</td>\n",
              "      <td>0</td>\n",
              "      <td>0</td>\n",
              "      <td>0</td>\n",
              "      <td>...</td>\n",
              "      <td>0</td>\n",
              "      <td>0</td>\n",
              "      <td>0</td>\n",
              "      <td>0</td>\n",
              "      <td>0</td>\n",
              "      <td>1996</td>\n",
              "      <td>49</td>\n",
              "      <td>M</td>\n",
              "      <td>writer</td>\n",
              "      <td>55105</td>\n",
              "    </tr>\n",
              "    <tr>\n",
              "      <th>4</th>\n",
              "      <td>195</td>\n",
              "      <td>381</td>\n",
              "      <td>4.0</td>\n",
              "      <td>881251843</td>\n",
              "      <td>Adventures of Priscilla, Queen of the Desert, ...</td>\n",
              "      <td>01-Jan-1994</td>\n",
              "      <td>0</td>\n",
              "      <td>0</td>\n",
              "      <td>0</td>\n",
              "      <td>0</td>\n",
              "      <td>...</td>\n",
              "      <td>0</td>\n",
              "      <td>0</td>\n",
              "      <td>0</td>\n",
              "      <td>0</td>\n",
              "      <td>0</td>\n",
              "      <td>1994</td>\n",
              "      <td>49</td>\n",
              "      <td>M</td>\n",
              "      <td>writer</td>\n",
              "      <td>55105</td>\n",
              "    </tr>\n",
              "  </tbody>\n",
              "</table>\n",
              "<p>5 rows × 30 columns</p>\n",
              "</div>\n",
              "      <button class=\"colab-df-convert\" onclick=\"convertToInteractive('df-ff13c69d-70a4-4728-a4e8-11a1b247a61b')\"\n",
              "              title=\"Convert this dataframe to an interactive table.\"\n",
              "              style=\"display:none;\">\n",
              "        \n",
              "  <svg xmlns=\"http://www.w3.org/2000/svg\" height=\"24px\"viewBox=\"0 0 24 24\"\n",
              "       width=\"24px\">\n",
              "    <path d=\"M0 0h24v24H0V0z\" fill=\"none\"/>\n",
              "    <path d=\"M18.56 5.44l.94 2.06.94-2.06 2.06-.94-2.06-.94-.94-2.06-.94 2.06-2.06.94zm-11 1L8.5 8.5l.94-2.06 2.06-.94-2.06-.94L8.5 2.5l-.94 2.06-2.06.94zm10 10l.94 2.06.94-2.06 2.06-.94-2.06-.94-.94-2.06-.94 2.06-2.06.94z\"/><path d=\"M17.41 7.96l-1.37-1.37c-.4-.4-.92-.59-1.43-.59-.52 0-1.04.2-1.43.59L10.3 9.45l-7.72 7.72c-.78.78-.78 2.05 0 2.83L4 21.41c.39.39.9.59 1.41.59.51 0 1.02-.2 1.41-.59l7.78-7.78 2.81-2.81c.8-.78.8-2.07 0-2.86zM5.41 20L4 18.59l7.72-7.72 1.47 1.35L5.41 20z\"/>\n",
              "  </svg>\n",
              "      </button>\n",
              "      \n",
              "  <style>\n",
              "    .colab-df-container {\n",
              "      display:flex;\n",
              "      flex-wrap:wrap;\n",
              "      gap: 12px;\n",
              "    }\n",
              "\n",
              "    .colab-df-convert {\n",
              "      background-color: #E8F0FE;\n",
              "      border: none;\n",
              "      border-radius: 50%;\n",
              "      cursor: pointer;\n",
              "      display: none;\n",
              "      fill: #1967D2;\n",
              "      height: 32px;\n",
              "      padding: 0 0 0 0;\n",
              "      width: 32px;\n",
              "    }\n",
              "\n",
              "    .colab-df-convert:hover {\n",
              "      background-color: #E2EBFA;\n",
              "      box-shadow: 0px 1px 2px rgba(60, 64, 67, 0.3), 0px 1px 3px 1px rgba(60, 64, 67, 0.15);\n",
              "      fill: #174EA6;\n",
              "    }\n",
              "\n",
              "    [theme=dark] .colab-df-convert {\n",
              "      background-color: #3B4455;\n",
              "      fill: #D2E3FC;\n",
              "    }\n",
              "\n",
              "    [theme=dark] .colab-df-convert:hover {\n",
              "      background-color: #434B5C;\n",
              "      box-shadow: 0px 1px 3px 1px rgba(0, 0, 0, 0.15);\n",
              "      filter: drop-shadow(0px 1px 2px rgba(0, 0, 0, 0.3));\n",
              "      fill: #FFFFFF;\n",
              "    }\n",
              "  </style>\n",
              "\n",
              "      <script>\n",
              "        const buttonEl =\n",
              "          document.querySelector('#df-ff13c69d-70a4-4728-a4e8-11a1b247a61b button.colab-df-convert');\n",
              "        buttonEl.style.display =\n",
              "          google.colab.kernel.accessAllowed ? 'block' : 'none';\n",
              "\n",
              "        async function convertToInteractive(key) {\n",
              "          const element = document.querySelector('#df-ff13c69d-70a4-4728-a4e8-11a1b247a61b');\n",
              "          const dataTable =\n",
              "            await google.colab.kernel.invokeFunction('convertToInteractive',\n",
              "                                                     [key], {});\n",
              "          if (!dataTable) return;\n",
              "\n",
              "          const docLinkHtml = 'Like what you see? Visit the ' +\n",
              "            '<a target=\"_blank\" href=https://colab.research.google.com/notebooks/data_table.ipynb>data table notebook</a>'\n",
              "            + ' to learn more about interactive tables.';\n",
              "          element.innerHTML = '';\n",
              "          dataTable['output_type'] = 'display_data';\n",
              "          await google.colab.output.renderOutput(dataTable, element);\n",
              "          const docLink = document.createElement('div');\n",
              "          docLink.innerHTML = docLinkHtml;\n",
              "          element.appendChild(docLink);\n",
              "        }\n",
              "      </script>\n",
              "    </div>\n",
              "  </div>\n",
              "  "
            ],
            "text/plain": [
              "   user_id  movie_id  rating  unix_timestamp  \\\n",
              "0      195       241     3.0       881250949   \n",
              "1      195       256     2.0       881251577   \n",
              "2      195       110     4.0       881251793   \n",
              "3      195        24     4.0       881251955   \n",
              "4      195       381     4.0       881251843   \n",
              "\n",
              "                                               title release_date  \\\n",
              "0                                       Kolya (1996)  24-Jan-1997   \n",
              "1                                Men in Black (1997)  04-Jul-1997   \n",
              "2                Truth About Cats & Dogs, The (1996)  26-Apr-1996   \n",
              "3                               Birdcage, The (1996)  08-Mar-1996   \n",
              "4  Adventures of Priscilla, Queen of the Desert, ...  01-Jan-1994   \n",
              "\n",
              "   genre_unknown  Action  Adventure  Animation  ...  Romance  Sci-Fi  \\\n",
              "0              0       0          0          0  ...        0       0   \n",
              "1              0       1          1          0  ...        0       1   \n",
              "2              0       0          0          0  ...        1       0   \n",
              "3              0       0          0          0  ...        0       0   \n",
              "4              0       0          0          0  ...        0       0   \n",
              "\n",
              "   Thriller  War  Western  year  age  sex  occupation  zip_code  \n",
              "0         0    0        0  1997   49    M      writer     55105  \n",
              "1         0    0        0  1997   49    M      writer     55105  \n",
              "2         0    0        0  1996   49    M      writer     55105  \n",
              "3         0    0        0  1996   49    M      writer     55105  \n",
              "4         0    0        0  1994   49    M      writer     55105  \n",
              "\n",
              "[5 rows x 30 columns]"
            ]
          },
          "execution_count": 8,
          "metadata": {},
          "output_type": "execute_result"
        }
      ],
      "source": [
        "movielens.head()"
      ]
    },
    {
      "cell_type": "code",
      "execution_count": null,
      "metadata": {
        "id": "0EdwQzxi--9S"
      },
      "outputs": [],
      "source": [
        "def flatten_cols(df):\n",
        "    df.columns = [' '.join(col).strip() for col in df.columns.values]\n",
        "    return df\n",
        "\n",
        "pd.DataFrame.flatten_cols = flatten_cols\n",
        "\n",
        "users_ratings = (\n",
        "    ratings\n",
        "    .groupby('user_id', as_index=False)\n",
        "    .agg({'rating': ['count', 'mean']})\n",
        "    .flatten_cols()\n",
        "    .merge(users, on='user_id')\n",
        ")\n"
      ]
    },
    {
      "cell_type": "markdown",
      "metadata": {
        "id": "VZ6OXd0i--9T"
      },
      "source": [
        "### Question 1: Rating Distribution of users.\n",
        "First, we look at the distribution of ratings per user to examine number of ratings and average rating per user.\n",
        "\n",
        "Plot two histograms depicting: (a) the number of ratings per user and (b) average rating per user. (Use plt.hist with 10 bins)\n",
        "\n",
        "What do you observe?\n",
        "\n"
      ]
    },
    {
      "cell_type": "code",
      "execution_count": null,
      "metadata": {
        "id": "G-uvSfrZ--9T"
      },
      "outputs": [],
      "source": [
        ""
      ]
    },
    {
      "cell_type": "markdown",
      "metadata": {
        "id": "xu--LnQt--9T"
      },
      "source": [
        "### Question 2: Rating Distribution of movies.\n",
        "\n",
        "Similarly, plot the rating distribution of each movie with respect to (a) the number of ratings per movie and (b) average rating per movie.\n"
      ]
    },
    {
      "cell_type": "code",
      "execution_count": null,
      "metadata": {
        "id": "00mGFRzM--9T"
      },
      "outputs": [],
      "source": [
        "# Utility to split the data into training and test sets.\n",
        "def split_dataframe(df, holdout_fraction=0.3):\n",
        "    '''Splits a DataFrame into training and test sets.\n",
        "    Args:\n",
        "    df: a dataframe.\n",
        "    holdout_fraction: fraction of dataframe rows to use in the test set.\n",
        "    Returns:\n",
        "    train_df: dataframe for training\n",
        "    test_df: dataframe for testing\n",
        "    '''\n",
        "    eval_df = df.sample(frac=holdout_fraction, replace=False)\n",
        "    \n",
        "    val_df = eval_df.sample(frac=(1/3.0), replace=False)    \n",
        "    test_df = eval_df[~eval_df.index.isin(val_df.index)]\n",
        "    \n",
        "    train_df = df[~df.index.isin(eval_df.index)]\n",
        "    return train_df, val_df, test_df\n"
      ]
    },
    {
      "cell_type": "code",
      "execution_count": null,
      "metadata": {
        "id": "QJL4YAx2--9U"
      },
      "outputs": [],
      "source": [
        "# train, val, test = split_dataframe(movielens)\n"
      ]
    },
    {
      "cell_type": "code",
      "execution_count": null,
      "metadata": {
        "id": "OMgMpDzV--9U"
      },
      "outputs": [],
      "source": [
        "# load train, val, test data for consistency.\n",
        "\n",
        "train = pd.read_csv('ml-100k/train.csv')\n",
        "val = pd.read_csv('ml-100k/val.csv')\n",
        "test = pd.read_csv('ml-100k/test.csv')"
      ]
    },
    {
      "cell_type": "markdown",
      "metadata": {
        "id": "IpE7gvK4--9U"
      },
      "source": [
        "### Item Neighborhood-based Collaborative Filtering\n",
        "\n",
        "The code described in the next cell provides an initial implementation of neighborhood-based CF using item-based nearest neighbors. "
      ]
    },
    {
      "cell_type": "code",
      "execution_count": null,
      "metadata": {
        "id": "ADtTEqBa--9V"
      },
      "outputs": [],
      "source": [
        "class NeighborhoodCF():\n",
        "\n",
        "    def __init__(self, train):\n",
        "        self.mu = train['rating'].mean()\n",
        "        self.rating_matrix = sp.csr_matrix((train['rating'], (train['user_id'], train['movie_id']))).toarray()\n",
        "        n_users, n_items = self.rating_matrix.shape[0], self.rating_matrix.shape[1]\n",
        "        self.n_users, self.n_items = n_users, n_items\n",
        "        \n",
        "        # Compute item biases.\n",
        "        self.item_bias, self.user_bias = np.zeros(n_items), np.zeros(n_users)\n",
        "                \n",
        "        item_bias_dict = dict(train.sort_values(['movie_id'],ascending=True).\n",
        "                              groupby(['movie_id'])['rating'].apply(lambda x: sum(x)/len(x) - self.mu))\n",
        "        \n",
        "        for key, val in item_bias_dict.items():\n",
        "            self.item_bias[key] = val\n",
        "\n",
        "        # Compute user biases.\n",
        "        user_bias_dict = train.sort_values(['user_id'],ascending=True).groupby(['user_id']).apply(self.get_user_bias)\n",
        "\n",
        "        for key, val in user_bias_dict.items():\n",
        "            self.user_bias[key] = val\n",
        "        \n",
        "        # Compute a dictionary to store list of items per user (and vice-versa).\n",
        "        self.user_items_dict = defaultdict(lambda: [], dict(train.groupby('user_id')['movie_id'].apply(list)))\n",
        "        self.item_users_dict = defaultdict(lambda: [], dict(train.groupby('movie_id')['user_id'].apply(list)))                \n",
        "        \n",
        "        # Compute movie-movie similarities based on genres.\n",
        "        \n",
        "        movie_genres = train[['movie_id'] + genre_cols].drop_duplicates().sort_values('movie_id')\n",
        "        movie_genres['genre'] = movie_genres[genre_cols].values.tolist()\n",
        "        movie_genres_dict = dict(movie_genres[['movie_id', 'genre']].values)\n",
        "\n",
        "        self.movie_genres_matrix = np.zeros([n_items, len(genre_cols)])\n",
        "\n",
        "        for key, val in movie_genres_dict.items():\n",
        "            self.movie_genres_matrix[key] = val\n",
        "            \n",
        "        self.movie_similarity = cosine_similarity(self.movie_genres_matrix)\n",
        "        self.pearson = np.zeros([n_items, n_items])\n",
        "        #print(self.rating_matrix)\n",
        "    ###\n",
        "    ###\n",
        "    ###\n",
        "    def get_pearson_correlation(self, movie_id_1, movie_id_2, bias = True):\n",
        "        movie_1_dict = self.item_users_dict[movie_id_1]\n",
        "        movie_2_dict = self.item_users_dict[movie_id_2]\n",
        "        similar_users_id = set(movie_1_dict).intersection(set(movie_2_dict))\n",
        "        if len(similar_users_id) == 0:\n",
        "            return 0\n",
        "        numerator = 0\n",
        "        denumerator = 0\n",
        "        for users in similar_users_id:\n",
        "            if bias == True:\n",
        "                b_ui = self.mu + self.user_bias[users] + self.item_bias[movie_id_1]\n",
        "                b_uj = self.mu + self.user_bias[users] + self.item_bias[movie_id_2]\n",
        "            else:\n",
        "                b_ui = 0\n",
        "                b_uj = 0\n",
        "            numerator += (self.rating_matrix[users][movie_id_1] - b_ui) * (\n",
        "                            self.rating_matrix[users][movie_id_2] - b_uj)\n",
        "            denumerator += ((self.rating_matrix[users][movie_id_1] - b_ui) ** 2) * ((\n",
        "                            self.rating_matrix[users][movie_id_2] - b_uj) ** 2)\n",
        "        return numerator / np.sqrt(denumerator)\n",
        "    ####\n",
        "    ####\n",
        "    ####\n",
        "        \n",
        "    def get_user_bias(self, group):    \n",
        "        items = group['movie_id']\n",
        "        ratings = group['rating']\n",
        "        assert len(items) == len(ratings)\n",
        "        result = 0.0\n",
        "\n",
        "        for item, rating in zip(items, ratings):\n",
        "            result += rating - self.item_bias[item] - self.mu\n",
        "\n",
        "        result = result/len(items)\n",
        "        return result\n",
        "    \n",
        "\n",
        "\n",
        "    #This function finds k similar items given the item_id (based on pearson correlation).\n",
        "    def find_nearest_neighbors(self, item_id,  k=5, item_list=None, pearson = True, bias=True):\n",
        "        if item_list is None:\n",
        "            item_list = list(range(0, self.n_items))\n",
        "        \n",
        "        if pearson:\n",
        "            similarities = np.array([self.get_pearson_correlation(item_id, j, bias = bias) for j in item_list])\n",
        "        else:\n",
        "            similarities = self.movie_similarity[item_id, item_list]\n",
        "                \n",
        "        similar_items_indices = similarities.argsort()[::-1][:k]\n",
        "        return [item_list[idx] for idx in similar_items_indices]\n",
        "    \n",
        "    def knn_predict(self, user, item, k=5, pearson = True, bias = True):\n",
        "        numerator, denominator = 0.0, 0.0\n",
        "        neighbor_items = self.user_items_dict[user]\n",
        "        assert k >=0\n",
        "        neighbor_items = self.find_nearest_neighbors(item, k, neighbor_items, pearson, bias = bias)\n",
        "        \n",
        "        for j in neighbor_items:\n",
        "            sij = self.movie_similarity[item, j] + 0.000001\n",
        "            denominator += sij         \n",
        "            numerator += sij * (self.rating_matrix[user][j])\n",
        "                \n",
        "        rui = (numerator / denominator)\n",
        "        return rui\n",
        "                \n",
        "\n",
        "\n",
        "    # TODO: complete this function in question 4    \n",
        "    def bias_predict(self, user, item):\n",
        "        pass\n",
        "    \n",
        "    # TODO: complete this function in question 5\n",
        "    def knn_bias_predict(self, user, item, k=5):\n",
        "        pass\n",
        "    \n"
      ]
    },
    {
      "cell_type": "code",
      "execution_count": null,
      "metadata": {
        "colab": {
          "background_save": true,
          "base_uri": "https://localhost:8080/"
        },
        "id": "SO9Gw94as9gf",
        "outputId": "9715d17f-1a95-4110-ccf3-ad51b21c0620"
      },
      "outputs": [
        {
          "name": "stdout",
          "output_type": "stream",
          "text": [
            "running k = 1\n",
            "running k = 5\n",
            "running k = 10\n",
            "running k = 50\n",
            "running k = 100\n"
          ]
        }
      ],
      "source": [
        "model_CF = NeighborhoodCF(train)\n",
        "mse_ls = []\n",
        "mse_ls_no_bias = []\n",
        "for k in [1, 5, 10, 50, 100]:\n",
        "    print(f\"running k = {k}\")\n",
        "    preds, preds_no_bias, targets = [], [], []\n",
        "    predsb = []\n",
        "    for idx, row in enumerate(test[['user_id', 'movie_id', 'rating']].values):            \n",
        "        u, i, r = tuple(row)\n",
        "        pred = model_CF.knn_predict(int(u), int(i), k)\n",
        "        pred = np.clip(pred, 0, 5)\n",
        "        preds.append(pred)\n",
        "\n",
        "        pred_no_bias = model_CF.knn_predict(int(u), int(i), k, pearson = True, bias = False)\n",
        "        pred_no_bias = np.clip(pred_no_bias, 0, 5)\n",
        "        preds_no_bias.append(pred_no_bias)\n",
        "        targets.append(r)\n",
        "\n",
        "    mse_ls.append(torch.nn.MSELoss()(torch.tensor(preds), torch.tensor(targets)))\n",
        "    mse_ls_no_bias.append(torch.nn.MSELoss()(torch.tensor(preds_no_bias), torch.tensor(targets)))\n",
        "    #mse_ls_b.append(torch.nn.MSELoss()(torch.tensor(predsb), torch.tensor(targets)))"
      ]
    },
    {
      "cell_type": "code",
      "execution_count": 37,
      "metadata": {
        "colab": {
          "base_uri": "https://localhost:8080/",
          "height": 281
        },
        "id": "09GzsCt4sKES",
        "outputId": "44fe393b-c3d3-4cd8-f516-cf3f5d9b1b3d"
      },
      "outputs": [
        {
          "output_type": "display_data",
          "data": {
            "text/plain": [
              "<Figure size 432x288 with 1 Axes>"
            ],
            "image/png": "[encoded data removed]"
          },
          "metadata": {
            "needs_background": "light"
          }
        }
      ],
      "source": [
        "k_list = [1, 5, 10, 50, 100]\n",
        "plt.plot(k_list, mse_ls, label = 'Bias On')\n",
        "plt.plot(k_list, mse_ls_no_bias, label = 'Bias Off')\n",
        "plt.title(\"MSE vs K for bias on\")\n",
        "plt.legend()\n",
        "plt.plot()\n",
        "plt.show()"
      ]
    },
    {
      "cell_type": "markdown",
      "metadata": {
        "id": "-P2pbxPE--9d"
      },
      "source": [
        "### Question 3: Neighborhood-based CF (impact of neighborhood size)\n",
        "\n",
        "Run the above neighborhood-based recommender `knn_predict` for different neighborhood sizes $K = \\{1, 5, 10, 50, 100\\}$ and plot the variation in test MSE error with respect to $K$. \n"
      ]
    },
    {
      "cell_type": "code",
      "execution_count": null,
      "metadata": {
        "id": "rna-tYVO--9d"
      },
      "outputs": [],
      "source": [
        ""
      ]
    },
    {
      "cell_type": "markdown",
      "metadata": {
        "id": "OUZSSBWI--9e"
      },
      "source": [
        "### Question 4: Bias recommender baseline. \n",
        "\n",
        "Complete the `bias_predict` function within the `NeighborhoodCF` class to implement the baseline recommender using user-specific, item-specific and global bias factors. $ r_{ui} = b_u + b_i + \\mu $.\n",
        "\n",
        "How does the performance of bias prediction baseline compare with the nearest neighbor recommender in `knn_predict` ? Explain.\n"
      ]
    },
    {
      "cell_type": "markdown",
      "metadata": {
        "id": "PtBsEMIJ--9e"
      },
      "source": [
        "### Question 5: Neighborhood-based CF with bias\n",
        "\n",
        "\n",
        "Complete the `knn_bias_predict` function within the `NeighborhoodCF` class to implement the nearest neighborhood  recommender using user-specific, item-specific and global bias factors. (Extend `knn_predict` with biases)\n",
        "\n",
        "$$\\hat{r}_{u,i} = b_{u,i}+ \\frac{\\sum_{j \\in S^k(i;u)} s_{i,j} \\times (r_{u,j} - b_{u,j}) }{\\sum_{j \\in S^k(i;u)} s_{i,j}} $$\n",
        "\n",
        "\n",
        "$$ b_{u,i} =  \\mu + b_u + b_i$$\n",
        "\n",
        "\n",
        "How does the performance of `knn_bias_predict` compare with `knn_predict` and `bias_predict` ? Explain."
      ]
    },
    {
      "cell_type": "markdown",
      "metadata": {
        "id": "s4gLFY33--9e"
      },
      "source": [
        "### Matrix Factorization based Collaborative Filtering\n",
        "\n",
        "This is an implementation of Matrix Factorization using a machine learning framework PyTorch - https://pytorch.org/ with automatic gradient computation.\n",
        "\n",
        "Instead of SGD, we use PyTorch due to better optimizers and batch-wise efficient computations.  \n",
        "\n",
        "Unlike the neighborhood-based CF model which is non-parametric, the MF model has multiple learnable parameters (latent factors) and hyper-parameters (learning rate, number of latent factors, batch size, etc.). "
      ]
    },
    {
      "cell_type": "code",
      "execution_count": null,
      "metadata": {
        "id": "OsYWoHSF--9e"
      },
      "outputs": [],
      "source": [
        "import torch\n",
        "import torch.nn as nn\n",
        "import torch.nn.functional as F\n",
        "\n",
        "class MatrixFactorization(torch.nn.Module):\n",
        "    def __init__(self, n_users, n_items, n_factors=20, bias=False):\n",
        "        super().__init__()\n",
        "        # create user embeddings\n",
        "        self.user_factors = torch.nn.Embedding(n_users, n_factors)\n",
        "        self.bias = bias\n",
        "        \n",
        "        # create item embeddings\n",
        "        self.item_factors = torch.nn.Embedding(n_items, n_factors)\n",
        "        if self.bias:\n",
        "            self.user_bias = torch.nn.Embedding(n_users, 1)\n",
        "            self.item_bias = torch.nn.Embedding(n_items, 1)\n",
        "            \n",
        "            self.user_bias.weight.data.fill_(0.)\n",
        "            self.user_bias.weight.data.fill_(0.)\n",
        "        \n",
        "        torch.nn.init.xavier_uniform_(self.user_factors.weight)\n",
        "        torch.nn.init.xavier_uniform_(self.item_factors.weight)\n",
        "        \n",
        "    def forward(self, user, item):\n",
        "        # matrix multiplication\n",
        "        if self.bias:\n",
        "            return self.user_bias(user).squeeze(-1) + self.item_bias(item).squeeze(-1) + \\\n",
        "                (self.user_factors(user)*self.item_factors(item)).sum(-1)\n",
        "        else:\n",
        "            return (self.user_factors(user)*self.item_factors(item)).sum(-1)\n",
        "\n",
        "    def predict(self, user, item):\n",
        "        return self.forward(user, item)\n",
        "    "
      ]
    },
    {
      "cell_type": "code",
      "execution_count": null,
      "metadata": {
        "id": "X7I9pzZF--9f"
      },
      "outputs": [],
      "source": [
        "# hyper-parameters.\n",
        "\n",
        "lr = 1e-3\n",
        "batch_size = 1024\n",
        "n_factors = 128\n",
        "\n",
        "model_MF = MatrixFactorization(model_CF.n_users, model_CF.n_items, n_factors=n_factors, bias=False)\n",
        "\n",
        "loss_fn = torch.nn.MSELoss()\n",
        "optimizer = torch.optim.Adam(model_MF.parameters(), lr=lr, weight_decay=1e-4)\n",
        "\n",
        "train_ratings = train[['user_id', 'movie_id', 'rating']].values\n",
        "test_ratings = test[['user_id', 'movie_id', 'rating']].values\n",
        "val_ratings = val[['user_id', 'movie_id', 'rating']].values\n",
        "\n",
        "def test_model(model_MF, test_ratings):\n",
        "    n_batches = len(test_ratings) // batch_size\n",
        "    preds, targets = [], []\n",
        "    for b in range(n_batches):\n",
        "        batch_data = test_ratings[(b* batch_size) : (b+1)* batch_size]        \n",
        "        batch_users, batch_items, batch_ratings = batch_data[:, 0], batch_data[:, 1], batch_data[:, 2]\n",
        "        user, item = torch.LongTensor(batch_users), torch.LongTensor(batch_items)\n",
        "        pred = model_MF.predict(user, item).detach()\n",
        "        pred = np.clip(pred, 0, 5)\n",
        "        preds.append(pred)\n",
        "        targets.append(batch_ratings)\n",
        "    preds, targets = np.concatenate(preds), np.concatenate(targets)\n",
        "    test_loss = loss_fn(torch.tensor(preds), torch.tensor(targets)).item()\n",
        "    # print (\"test loss: \", test_loss)\n",
        "    return test_loss\n",
        "\n",
        "def val_model(model_MF, val_ratings):\n",
        "    n_batches = len(test_ratings) // batch_size\n",
        "    preds, targets = [], []\n",
        "    for b in range(n_batches):\n",
        "        batch_data = test_ratings[(b* batch_size) : (b+1)* batch_size]        \n",
        "        batch_users, batch_items, batch_ratings = batch_data[:, 0], batch_data[:, 1], batch_data[:, 2]\n",
        "        user, item = torch.LongTensor(batch_users), torch.LongTensor(batch_items)\n",
        "        pred = model_MF.predict(user, item).detach()\n",
        "        pred = np.clip(pred, 0, 5)\n",
        "        preds.append(pred)\n",
        "        targets.append(batch_ratings)\n",
        "    preds, targets = np.concatenate(preds), np.concatenate(targets)\n",
        "    test_loss = loss_fn(torch.tensor(preds), torch.tensor(targets)).item()\n",
        "    # print (\"Val loss: \", test_loss)\n",
        "    return test_loss\n",
        "    \n",
        "test_loss_list = []\n",
        "train_loss_list = []\n",
        "val_loss_list= []\n",
        "epoch_vals = []\n",
        "\n",
        "for epoch in range(0, 150):\n",
        "    train_loss = 0.0\n",
        "    n_batches = len(train_ratings) // batch_size\n",
        "    if train_ratings % batch_size is not 0:\n",
        "        n_batches += 1\n",
        "    np.random.shuffle(train_ratings)\n",
        "    for b in range(n_batches):\n",
        "        batch_data = train_ratings[(b* batch_size) : (b+1)* batch_size]\n",
        "        # get user, item and rating data\n",
        "        batch_users, batch_items, batch_ratings = batch_data[:, 0], batch_data[:, 1], batch_data[:, 2]\n",
        "        user, item = torch.LongTensor(batch_users), torch.LongTensor(batch_items)\n",
        "        rating = torch.FloatTensor(batch_ratings)\n",
        "        optimizer.zero_grad()\n",
        "        model_MF.zero_grad()\n",
        "        \n",
        "        # predict\n",
        "        prediction = model_MF(user, item)\n",
        "        loss = loss_fn(prediction, rating)\n",
        "\n",
        "        # backpropagate\n",
        "        loss.backward()\n",
        "\n",
        "        # update weights\n",
        "        optimizer.step()\n",
        "        \n",
        "        train_loss += loss.item()\n",
        "        \n",
        "        \n",
        "    # print (\"epoch {}: train loss {}\".format(epoch, train_loss/n_batches))\n",
        "    test_loss_list.append(test_model(model_MF, test_ratings))   \n",
        "    train_loss_list.append(train_loss/n_batches)\n",
        "    val_loss_list.append(val_model(model_MF, val_ratings))\n",
        "    epoch_vals.append(epoch)\n"
      ]
    },
    {
      "cell_type": "code",
      "execution_count": null,
      "metadata": {
        "colab": {
          "base_uri": "https://localhost:8080/",
          "height": 279
        },
        "id": "f5wlnewMwbR3",
        "outputId": "314a07e0-7571-42a0-8ec6-5219b6decee8"
      },
      "outputs": [
        {
          "data": {
            "image/png": "[encoded data removed]",
            "text/plain": [
              "<Figure size 432x288 with 1 Axes>"
            ]
          },
          "metadata": {},
          "output_type": "display_data"
        }
      ],
      "source": [
        "#plot for Q3.1\n",
        "plt.plot(epoch_vals, test_loss_list, label = 'Test Loss')\n",
        "plt.plot(epoch_vals, val_loss_list, label = 'Val Loss')\n",
        "plt.plot(epoch_vals, train_loss_list, label = 'Train Loss')\n",
        "plt.xlabel(\"Epoch Values\")\n",
        "plt.legend()\n",
        "plt.plot()\n",
        "plt.show()"
      ]
    },
    {
      "cell_type": "code",
      "execution_count": null,
      "metadata": {
        "id": "49Dz6xrc--9g"
      },
      "outputs": [],
      "source": [
        "# hyper-parameters.\n",
        "\n",
        "lr = 1e-3\n",
        "batch_size = 1024\n",
        "n_factors_list = [4,16,64,128]\n",
        "\n",
        "model_MF = MatrixFactorization(model_CF.n_users, model_CF.n_items, n_factors=n_factors, bias=False)\n",
        "\n",
        "loss_fn = torch.nn.MSELoss()\n",
        "optimizer = torch.optim.Adam(model_MF.parameters(), lr=lr, weight_decay=1e-4)\n",
        "\n",
        "train_ratings = train[['user_id', 'movie_id', 'rating']].values\n",
        "test_ratings = test[['user_id', 'movie_id', 'rating']].values\n",
        "val_ratings = val[['user_id', 'movie_id', 'rating']].values\n",
        "\n",
        "def test_model(model_MF, test_ratings):\n",
        "    n_batches = len(test_ratings) // batch_size\n",
        "    preds, targets = [], []\n",
        "    for b in range(n_batches):\n",
        "        batch_data = test_ratings[(b* batch_size) : (b+1)* batch_size]        \n",
        "        batch_users, batch_items, batch_ratings = batch_data[:, 0], batch_data[:, 1], batch_data[:, 2]\n",
        "        user, item = torch.LongTensor(batch_users), torch.LongTensor(batch_items)\n",
        "        pred = model_MF.predict(user, item).detach()\n",
        "        pred = np.clip(pred, 0, 5)\n",
        "        preds.append(pred)\n",
        "        targets.append(batch_ratings)\n",
        "    preds, targets = np.concatenate(preds), np.concatenate(targets)\n",
        "    test_loss = loss_fn(torch.tensor(preds), torch.tensor(targets)).item()\n",
        "    return test_loss\n",
        "mean_square_error = {}\n",
        "mse_minimum_values = []\n",
        "for n_factors in n_factors_list:\n",
        "    mean_square_error[n_factors] = []\n",
        "    for epoch in range(0, 150):\n",
        "        train_loss = 0.0\n",
        "        n_batches = len(train_ratings) // batch_size\n",
        "        if train_ratings % batch_size is not 0:\n",
        "            n_batches += 1\n",
        "        np.random.shuffle(train_ratings)\n",
        "        for b in range(n_batches):\n",
        "            batch_data = train_ratings[(b* batch_size) : (b+1)* batch_size]\n",
        "            # get user, item and rating data\n",
        "            batch_users, batch_items, batch_ratings = batch_data[:, 0], batch_data[:, 1], batch_data[:, 2]\n",
        "            user, item = torch.LongTensor(batch_users), torch.LongTensor(batch_items)\n",
        "            rating = torch.FloatTensor(batch_ratings)\n",
        "            optimizer.zero_grad()\n",
        "            model_MF.zero_grad()\n",
        "            \n",
        "            # predict\n",
        "            prediction = model_MF(user, item)\n",
        "            loss = loss_fn(prediction, rating)\n",
        "\n",
        "            # backpropagate\n",
        "            loss.backward()\n",
        "\n",
        "            # update weights\n",
        "            optimizer.step()\n",
        "            \n",
        "            train_loss += loss.item()\n",
        "        mean_square_error[n_factors].append(train_loss)\n",
        "    mse_minimum_values.append(train_loss)\n",
        "        "
      ]
    },
    {
      "cell_type": "code",
      "execution_count": null,
      "metadata": {
        "colab": {
          "base_uri": "https://localhost:8080/",
          "height": 283
        },
        "id": "4iJ1w6-4AGes",
        "outputId": "b314c374-a692-4f87-8e32-09818f627234"
      },
      "outputs": [
        {
          "data": {
            "image/png": "[encoded data removed]",
            "text/plain": [
              "<Figure size 432x288 with 1 Axes>"
            ]
          },
          "metadata": {},
          "output_type": "display_data"
        }
      ],
      "source": [
        "#plot for Q3.2\n",
        "\n",
        "plt.plot(n_factors_list, mse_minimum_values)\n",
        "plt.xlabel(\"K Values\")\n",
        "plt.ylabel(\"MSE\")\n",
        "plt.plot()\n",
        "plt.show()"
      ]
    },
    {
      "cell_type": "code",
      "execution_count": null,
      "metadata": {
        "colab": {
          "base_uri": "https://localhost:8080/"
        },
        "id": "AwdTak_MBLpA",
        "outputId": "08c41bab-553e-4088-81cc-22a7c5517c66"
      },
      "outputs": [
        {
          "name": "stdout",
          "output_type": "stream",
          "text": [
            "epoch 0: train loss 1.126954488805849\n",
            "epoch 1: train loss 1.006101476954654\n",
            "epoch 2: train loss 0.9796180258300065\n",
            "epoch 3: train loss 0.9668979152019248\n",
            "epoch 4: train loss 0.9591201192309414\n",
            "epoch 5: train loss 0.9578274189009337\n",
            "epoch 6: train loss 0.9793128737957042\n",
            "epoch 0: train loss 1.1147793062657585\n",
            "epoch 1: train loss 1.0179714972185954\n",
            "epoch 2: train loss 0.9759155412908541\n",
            "epoch 3: train loss 0.9768712645530581\n",
            "epoch 0: train loss 1.1140323890992676\n",
            "epoch 1: train loss 1.0258812967201305\n",
            "epoch 2: train loss 0.9794300782999353\n",
            "epoch 3: train loss 0.973083052724944\n",
            "epoch 4: train loss 0.9686067593363962\n",
            "epoch 5: train loss 0.9595715109712566\n",
            "epoch 6: train loss 0.9699649230195824\n",
            "epoch 0: train loss 4.511581109704279\n",
            "epoch 1: train loss 1.148381340952426\n",
            "epoch 2: train loss 0.9901020171186631\n",
            "epoch 3: train loss 0.9536061956513103\n",
            "epoch 4: train loss 0.9258624561825732\n",
            "epoch 5: train loss 0.9078184678693634\n",
            "epoch 6: train loss 0.897668810663738\n",
            "epoch 7: train loss 0.8874331574432657\n",
            "epoch 8: train loss 0.8802548462920654\n",
            "epoch 9: train loss 0.8815236717727475\n",
            "epoch 0: train loss 5.029347400876306\n",
            "epoch 1: train loss 1.1546760739061155\n",
            "epoch 2: train loss 0.9872984019601632\n",
            "epoch 3: train loss 0.9444253426304812\n",
            "epoch 4: train loss 0.9119319668907152\n",
            "epoch 5: train loss 0.896403881174156\n",
            "epoch 6: train loss 0.8859743514267945\n",
            "epoch 7: train loss 0.8837709966385927\n",
            "epoch 8: train loss 0.8824209599537355\n",
            "epoch 9: train loss 0.8808801414039235\n",
            "epoch 10: train loss 0.8808897973837259\n",
            "epoch 0: train loss 4.67421645289779\n",
            "epoch 1: train loss 1.158790584713182\n",
            "epoch 2: train loss 0.9909353577096501\n",
            "epoch 3: train loss 0.9466557308888298\n",
            "epoch 4: train loss 0.9155759968484384\n",
            "epoch 5: train loss 0.8989888982975228\n",
            "epoch 6: train loss 0.8838749453666555\n",
            "epoch 7: train loss 0.8796069250841637\n",
            "epoch 8: train loss 0.8801660108786192\n",
            "epoch 0: train loss 13.574148281631267\n",
            "epoch 1: train loss 12.759092087693235\n",
            "epoch 2: train loss 7.718171132006297\n",
            "epoch 3: train loss 2.5020849420501046\n",
            "epoch 4: train loss 1.4115729375774926\n",
            "epoch 5: train loss 1.144466598689317\n",
            "epoch 6: train loss 1.0406258877892356\n",
            "epoch 7: train loss 0.9896477530957006\n",
            "epoch 8: train loss 0.9611551591077365\n",
            "epoch 9: train loss 0.9434658196291575\n",
            "epoch 10: train loss 0.9277757691480969\n",
            "epoch 11: train loss 0.9179300705680591\n",
            "epoch 12: train loss 0.9091928774516284\n",
            "epoch 13: train loss 0.9011564819124128\n",
            "epoch 14: train loss 0.8948787805633976\n",
            "epoch 15: train loss 0.8896983569803347\n",
            "epoch 16: train loss 0.8855833846249679\n",
            "epoch 17: train loss 0.8795681815393842\n",
            "epoch 18: train loss 0.8763200977528693\n",
            "epoch 19: train loss 0.8752739998445186\n",
            "epoch 20: train loss 0.8731679300375667\n",
            "epoch 21: train loss 0.871498981268025\n",
            "epoch 22: train loss 0.8709800544229962\n",
            "epoch 23: train loss 0.8706002024728984\n",
            "epoch 24: train loss 0.8707300330222021\n",
            "epoch 0: train loss 13.564726312447034\n",
            "epoch 1: train loss 12.529487834481467\n",
            "epoch 2: train loss 6.882052146714096\n",
            "epoch 3: train loss 2.18881419740967\n",
            "epoch 4: train loss 1.3430512558141963\n",
            "epoch 5: train loss 1.1174945160852872\n",
            "epoch 6: train loss 1.0297158889009055\n",
            "epoch 7: train loss 0.9865479493923083\n",
            "epoch 8: train loss 0.9625472598399438\n",
            "epoch 9: train loss 0.9462048249080802\n",
            "epoch 10: train loss 0.9348285426330664\n",
            "epoch 11: train loss 0.9249873704866326\n",
            "epoch 12: train loss 0.9158771651932878\n",
            "epoch 13: train loss 0.9081230077574558\n",
            "epoch 14: train loss 0.9019099233362463\n",
            "epoch 15: train loss 0.8965402493051488\n",
            "epoch 16: train loss 0.8905784840259036\n",
            "epoch 17: train loss 0.8869976752472797\n",
            "epoch 18: train loss 0.8822462158687173\n",
            "epoch 19: train loss 0.8804561774231218\n",
            "epoch 20: train loss 0.8779624724195871\n",
            "epoch 21: train loss 0.8776864773750476\n",
            "epoch 22: train loss 0.8761930018388364\n",
            "epoch 23: train loss 0.8755541472393629\n",
            "epoch 24: train loss 0.8736219841041352\n",
            "epoch 25: train loss 0.8743041781051267\n",
            "epoch 0: train loss 13.569886612012816\n",
            "epoch 1: train loss 12.626696451614112\n",
            "epoch 2: train loss 7.1069279803349845\n",
            "epoch 3: train loss 2.252365435074438\n",
            "epoch 4: train loss 1.3568343069549336\n",
            "epoch 5: train loss 1.1257549890464424\n",
            "epoch 6: train loss 1.0337542629747971\n",
            "epoch 7: train loss 0.9892189845369403\n",
            "epoch 8: train loss 0.9639755882278358\n",
            "epoch 9: train loss 0.946486037082897\n",
            "epoch 10: train loss 0.9348752618940134\n",
            "epoch 11: train loss 0.9245510675953611\n",
            "epoch 12: train loss 0.9156809783528379\n",
            "epoch 13: train loss 0.9084681558319441\n",
            "epoch 14: train loss 0.9017265411102443\n",
            "epoch 15: train loss 0.8949223965254094\n",
            "epoch 16: train loss 0.8912326419626797\n",
            "epoch 17: train loss 0.8857285399812355\n",
            "epoch 18: train loss 0.8827080738881916\n",
            "epoch 19: train loss 0.8791702308904107\n",
            "epoch 20: train loss 0.8768726131896362\n",
            "epoch 21: train loss 0.8752173816069709\n",
            "epoch 22: train loss 0.8747065131413267\n",
            "epoch 23: train loss 0.8732444304899059\n",
            "epoch 24: train loss 0.8734086282912662\n",
            "[0.9793128737957042, 0.9768712645530581, 0.9699649230195824, 0.8815236717727475, 0.8808897973837259, 0.8801660108786192, 0.8707300330222021, 0.8743041781051267, 0.8734086282912662]\n"
          ]
        }
      ],
      "source": [
        "batch_sizes = [16, 128, 1024]\n",
        "learning_rates = [1e-4, 1e-3, 1e-2]\n",
        "n_factors = 128\n",
        "result = {}\n",
        "\n",
        "for batch_size in batch_sizes:\n",
        "    result[batch_size] = 0\n",
        "    for learning_rate in learning_rates:\n",
        "        \n",
        "        model_MF = MatrixFactorization(model_CF.n_users, model_CF.n_items, n_factors=n_factors, bias=False)\n",
        "\n",
        "        loss_fn = torch.nn.MSELoss()\n",
        "        optimizer = torch.optim.Adam(model_MF.parameters(), lr=lr, weight_decay=1e-4)\n",
        "\n",
        "        train_ratings = train[['user_id', 'movie_id', 'rating']].values\n",
        "        val_ratings = val[['user_id', 'movie_id', 'rating']].values\n",
        "        test_ratings = test[['user_id', 'movie_id', 'rating']].values\n",
        "\n",
        "        prev_mse = 10000\n",
        "        for epoch in range(0, 150):\n",
        "            train_loss = 0.0\n",
        "            n_batches = len(train_ratings) // batch_size\n",
        "            if train_ratings % batch_size is not 0:\n",
        "                n_batches += 1\n",
        "            np.random.shuffle(train_ratings)\n",
        "            for b in range(n_batches):\n",
        "                batch_data = train_ratings[(b* batch_size) : (b+1)* batch_size]\n",
        "                # get user, item and rating data\n",
        "                batch_users, batch_items, batch_ratings = batch_data[:, 0], batch_data[:, 1], batch_data[:, 2]\n",
        "                user, item = torch.LongTensor(batch_users), torch.LongTensor(batch_items)\n",
        "                rating = torch.FloatTensor(batch_ratings)\n",
        "                optimizer.zero_grad()\n",
        "                model_MF.zero_grad()\n",
        "                \n",
        "                # predict\n",
        "                prediction = model_MF(user, item)\n",
        "                loss = loss_fn(prediction, rating)\n",
        "\n",
        "                # backpropagate\n",
        "                loss.backward()\n",
        "\n",
        "                # update weights\n",
        "                optimizer.step()\n",
        "                \n",
        "                train_loss += loss.item()\n",
        "                \n",
        "            val_mse = val_model(model_MF, val_ratings)\n",
        "            print (\"epoch {}: val loss {}\".format(epoch, val_mse))\n",
        "            if val_mse > prev_mse:\n",
        "                result.append(test_model(model_MF, test_ratings))\n",
        "                break\n",
        "            else:\n",
        "                prev_mse = val_mse\n",
        "\n",
        "            if epoch == 149:\n",
        "                result.append(test_model(model_MF, test_ratings))\n",
        "print(result)"
      ]
    }
  ],
  "metadata": {
    "colab": {
      "collapsed_sections": [],
      "name": "LHW2_Q2_and_Q3.ipynb",
      "provenance": [],
      "include_colab_link": true
    },
    "kernelspec": {
      "display_name": "Python 3",
      "name": "python3"
    },
    "language_info": {
      "name": "python"
    }
  },
  "nbformat": 4,
  "nbformat_minor": 0
}